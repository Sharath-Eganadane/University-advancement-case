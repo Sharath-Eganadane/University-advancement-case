{
 "cells": [
  {
   "cell_type": "code",
   "execution_count": 40,
   "id": "2acf585e",
   "metadata": {},
   "outputs": [],
   "source": [
    "import pandas as pd\n",
    "import numpy as np\n",
    "import matplotlib.pyplot as plt\n",
    "import seaborn as sns\n",
    "import sklearn\n",
    "import math\n",
    "from sklearn.cluster import KMeans"
   ]
  },
  {
   "cell_type": "code",
   "execution_count": 2,
   "id": "0fdcb28f",
   "metadata": {},
   "outputs": [],
   "source": [
    "data=pd.ExcelFile(R\"C:\\Users\\Name\\Desktop\\Python\\CASE 3\\University advancement dataset.xlsx\")"
   ]
  },
  {
   "cell_type": "code",
   "execution_count": 3,
   "id": "a74d1a08",
   "metadata": {},
   "outputs": [],
   "source": [
    "dt=pd.read_excel(data,'Sheet1')"
   ]
  },
  {
   "cell_type": "code",
   "execution_count": 4,
   "id": "8988e12f",
   "metadata": {},
   "outputs": [
    {
     "data": {
      "text/html": [
       "<div>\n",
       "<style scoped>\n",
       "    .dataframe tbody tr th:only-of-type {\n",
       "        vertical-align: middle;\n",
       "    }\n",
       "\n",
       "    .dataframe tbody tr th {\n",
       "        vertical-align: top;\n",
       "    }\n",
       "\n",
       "    .dataframe thead th {\n",
       "        text-align: right;\n",
       "    }\n",
       "</style>\n",
       "<table border=\"1\" class=\"dataframe\">\n",
       "  <thead>\n",
       "    <tr style=\"text-align: right;\">\n",
       "      <th></th>\n",
       "      <th>ID Number</th>\n",
       "      <th>Title</th>\n",
       "      <th>Preferred Language</th>\n",
       "      <th>Gender</th>\n",
       "      <th>Relationship Types</th>\n",
       "      <th>Faculty of Graduation</th>\n",
       "      <th>Year of Graduation</th>\n",
       "      <th>Province</th>\n",
       "      <th>Lifetime Giving</th>\n",
       "      <th>Year of Last Gift</th>\n",
       "      <th>Year of First Gift</th>\n",
       "      <th>Largest Gift</th>\n",
       "      <th>Events Attended in Lifetime</th>\n",
       "      <th>Past Traveler Y/N</th>\n",
       "      <th># of Instances of Volunteering</th>\n",
       "      <th># of Clicks in the Past Month</th>\n",
       "    </tr>\n",
       "  </thead>\n",
       "  <tbody>\n",
       "    <tr>\n",
       "      <th>0</th>\n",
       "      <td>100001</td>\n",
       "      <td>NaN</td>\n",
       "      <td>E</td>\n",
       "      <td>M</td>\n",
       "      <td>Graduate</td>\n",
       "      <td>Medicine -- General</td>\n",
       "      <td>1968</td>\n",
       "      <td>ON</td>\n",
       "      <td>73600</td>\n",
       "      <td>1997.0</td>\n",
       "      <td>1978.0</td>\n",
       "      <td>22080.0</td>\n",
       "      <td>0</td>\n",
       "      <td>N</td>\n",
       "      <td>0</td>\n",
       "      <td>27</td>\n",
       "    </tr>\n",
       "    <tr>\n",
       "      <th>1</th>\n",
       "      <td>100002</td>\n",
       "      <td>NaN</td>\n",
       "      <td>E</td>\n",
       "      <td>M</td>\n",
       "      <td>Graduate</td>\n",
       "      <td>Arts -- General</td>\n",
       "      <td>1958</td>\n",
       "      <td>NB</td>\n",
       "      <td>8035</td>\n",
       "      <td>1962.0</td>\n",
       "      <td>1961.0</td>\n",
       "      <td>1768.0</td>\n",
       "      <td>14</td>\n",
       "      <td>N</td>\n",
       "      <td>1</td>\n",
       "      <td>19</td>\n",
       "    </tr>\n",
       "    <tr>\n",
       "      <th>2</th>\n",
       "      <td>100003</td>\n",
       "      <td>NaN</td>\n",
       "      <td>E</td>\n",
       "      <td>F</td>\n",
       "      <td>Graduate</td>\n",
       "      <td>Science -- General</td>\n",
       "      <td>1963</td>\n",
       "      <td>ON</td>\n",
       "      <td>9675</td>\n",
       "      <td>1961.0</td>\n",
       "      <td>1961.0</td>\n",
       "      <td>3483.0</td>\n",
       "      <td>15</td>\n",
       "      <td>N</td>\n",
       "      <td>1</td>\n",
       "      <td>18</td>\n",
       "    </tr>\n",
       "    <tr>\n",
       "      <th>3</th>\n",
       "      <td>100004</td>\n",
       "      <td>NaN</td>\n",
       "      <td></td>\n",
       "      <td>M</td>\n",
       "      <td>Graduate</td>\n",
       "      <td>Education -- General</td>\n",
       "      <td>1960</td>\n",
       "      <td>BC</td>\n",
       "      <td>4070</td>\n",
       "      <td>1990.0</td>\n",
       "      <td>1986.0</td>\n",
       "      <td>2768.0</td>\n",
       "      <td>14</td>\n",
       "      <td>N</td>\n",
       "      <td>2</td>\n",
       "      <td>10</td>\n",
       "    </tr>\n",
       "    <tr>\n",
       "      <th>4</th>\n",
       "      <td>100005</td>\n",
       "      <td>NaN</td>\n",
       "      <td>E</td>\n",
       "      <td>M</td>\n",
       "      <td>Graduate</td>\n",
       "      <td>Management</td>\n",
       "      <td>1955</td>\n",
       "      <td>QC</td>\n",
       "      <td>13377</td>\n",
       "      <td>1970.0</td>\n",
       "      <td>1957.0</td>\n",
       "      <td>3077.0</td>\n",
       "      <td>0</td>\n",
       "      <td>N</td>\n",
       "      <td>0</td>\n",
       "      <td>16</td>\n",
       "    </tr>\n",
       "  </tbody>\n",
       "</table>\n",
       "</div>"
      ],
      "text/plain": [
       "   ID Number Title Preferred Language Gender Relationship Types  \\\n",
       "0     100001   NaN                  E      M           Graduate   \n",
       "1     100002   NaN                  E      M           Graduate   \n",
       "2     100003   NaN                  E      F           Graduate   \n",
       "3     100004   NaN                         M           Graduate   \n",
       "4     100005   NaN                  E      M           Graduate   \n",
       "\n",
       "  Faculty of Graduation  Year of Graduation Province  Lifetime Giving  \\\n",
       "0   Medicine -- General                1968       ON            73600   \n",
       "1       Arts -- General                1958       NB             8035   \n",
       "2    Science -- General                1963       ON             9675   \n",
       "3  Education -- General                1960       BC             4070   \n",
       "4            Management                1955       QC            13377   \n",
       "\n",
       "   Year of Last Gift  Year of First Gift  Largest Gift  \\\n",
       "0             1997.0              1978.0       22080.0   \n",
       "1             1962.0              1961.0        1768.0   \n",
       "2             1961.0              1961.0        3483.0   \n",
       "3             1990.0              1986.0        2768.0   \n",
       "4             1970.0              1957.0        3077.0   \n",
       "\n",
       "   Events Attended in Lifetime Past Traveler Y/N  \\\n",
       "0                            0                 N   \n",
       "1                           14                 N   \n",
       "2                           15                 N   \n",
       "3                           14                 N   \n",
       "4                            0                 N   \n",
       "\n",
       "   # of Instances of Volunteering  # of Clicks in the Past Month  \n",
       "0                               0                             27  \n",
       "1                               1                             19  \n",
       "2                               1                             18  \n",
       "3                               2                             10  \n",
       "4                               0                             16  "
      ]
     },
     "execution_count": 4,
     "metadata": {},
     "output_type": "execute_result"
    }
   ],
   "source": [
    "dt.head()"
   ]
  },
  {
   "cell_type": "code",
   "execution_count": 5,
   "id": "2ba8f5af",
   "metadata": {},
   "outputs": [
    {
     "name": "stdout",
     "output_type": "stream",
     "text": [
      "<class 'pandas.core.frame.DataFrame'>\n",
      "RangeIndex: 50000 entries, 0 to 49999\n",
      "Data columns (total 16 columns):\n",
      " #   Column                          Non-Null Count  Dtype  \n",
      "---  ------                          --------------  -----  \n",
      " 0   ID Number                       50000 non-null  int64  \n",
      " 1   Title                           2490 non-null   object \n",
      " 2   Preferred Language              50000 non-null  object \n",
      " 3   Gender                          50000 non-null  object \n",
      " 4   Relationship Types              50000 non-null  object \n",
      " 5   Faculty of Graduation           50000 non-null  object \n",
      " 6   Year of Graduation              50000 non-null  int64  \n",
      " 7   Province                        50000 non-null  object \n",
      " 8   Lifetime Giving                 50000 non-null  int64  \n",
      " 9   Year of Last Gift               16086 non-null  float64\n",
      " 10  Year of First Gift              16086 non-null  float64\n",
      " 11  Largest Gift                    16088 non-null  float64\n",
      " 12  Events Attended in Lifetime     50000 non-null  int64  \n",
      " 13  Past Traveler Y/N               50000 non-null  object \n",
      " 14  # of Instances of Volunteering  50000 non-null  int64  \n",
      " 15  # of Clicks in the Past Month   50000 non-null  int64  \n",
      "dtypes: float64(3), int64(6), object(7)\n",
      "memory usage: 6.1+ MB\n"
     ]
    }
   ],
   "source": [
    "dt.info()"
   ]
  },
  {
   "cell_type": "code",
   "execution_count": 6,
   "id": "ad30393e",
   "metadata": {},
   "outputs": [
    {
     "data": {
      "text/plain": [
       "(50000, 16)"
      ]
     },
     "execution_count": 6,
     "metadata": {},
     "output_type": "execute_result"
    }
   ],
   "source": [
    "dt.shape"
   ]
  },
  {
   "cell_type": "code",
   "execution_count": 7,
   "id": "29d86e4a",
   "metadata": {},
   "outputs": [
    {
     "data": {
      "text/plain": [
       "ID Number                             0\n",
       "Title                             47510\n",
       "Preferred Language                    0\n",
       "Gender                                0\n",
       "Relationship Types                    0\n",
       "Faculty of Graduation                 0\n",
       "Year of Graduation                    0\n",
       "Province                              0\n",
       "Lifetime Giving                       0\n",
       "Year of Last Gift                 33914\n",
       "Year of First Gift                33914\n",
       "Largest Gift                      33912\n",
       "Events Attended in Lifetime           0\n",
       "Past Traveler Y/N                     0\n",
       "# of Instances of Volunteering        0\n",
       "# of Clicks in the Past Month         0\n",
       "dtype: int64"
      ]
     },
     "execution_count": 7,
     "metadata": {},
     "output_type": "execute_result"
    }
   ],
   "source": [
    "#Counting no. of missing values in each column\n",
    "\n",
    "dt.isna().sum()"
   ]
  },
  {
   "cell_type": "code",
   "execution_count": 8,
   "id": "71a00b95",
   "metadata": {},
   "outputs": [
    {
     "data": {
      "text/plain": [
       "ID Number                         50000\n",
       "Title                                 3\n",
       "Preferred Language                    3\n",
       "Gender                                3\n",
       "Relationship Types                   21\n",
       "Faculty of Graduation                25\n",
       "Year of Graduation                   81\n",
       "Province                             12\n",
       "Lifetime Giving                    7636\n",
       "Year of Last Gift                    81\n",
       "Year of First Gift                   81\n",
       "Largest Gift                       6796\n",
       "Events Attended in Lifetime          16\n",
       "Past Traveler Y/N                     2\n",
       "# of Instances of Volunteering        4\n",
       "# of Clicks in the Past Month        36\n",
       "dtype: int64"
      ]
     },
     "execution_count": 8,
     "metadata": {},
     "output_type": "execute_result"
    }
   ],
   "source": [
    "#Checking all unique values in each column\n",
    "\n",
    "dt.nunique()"
   ]
  },
  {
   "cell_type": "code",
   "execution_count": 9,
   "id": "97190186",
   "metadata": {},
   "outputs": [
    {
     "data": {
      "text/plain": [
       "<AxesSubplot:>"
      ]
     },
     "execution_count": 9,
     "metadata": {},
     "output_type": "execute_result"
    },
    {
     "data": {
      "image/png": "[encoded data removed]",
      "text/plain": [
       "<Figure size 1000x600 with 2 Axes>"
      ]
     },
     "metadata": {},
     "output_type": "display_data"
    }
   ],
   "source": [
    "# null values visula;ization using heatmap\n",
    "\n",
    "plt.figure(figsize=(10,6))\n",
    "sns.heatmap(dt.isna().transpose(),\n",
    "            cmap=\"YlGnBu\",\n",
    "            cbar_kws={'label': 'Missing Data'})"
   ]
  },
  {
   "cell_type": "code",
   "execution_count": 10,
   "id": "36b1e33c",
   "metadata": {},
   "outputs": [],
   "source": [
    "#sns.pairplot(dt,hue='Relationship Types',palette='bwr')"
   ]
  },
  {
   "cell_type": "code",
   "execution_count": 11,
   "id": "d2eec00e",
   "metadata": {},
   "outputs": [],
   "source": [
    "#removing  columns having missing values\n",
    "\n",
    "dt1 = dt.copy()\n",
    "dt1.drop(columns=['Title'],inplace=True)\n"
   ]
  },
  {
   "cell_type": "code",
   "execution_count": 12,
   "id": "b474f3c0",
   "metadata": {},
   "outputs": [
    {
     "data": {
      "text/html": [
       "<div>\n",
       "<style scoped>\n",
       "    .dataframe tbody tr th:only-of-type {\n",
       "        vertical-align: middle;\n",
       "    }\n",
       "\n",
       "    .dataframe tbody tr th {\n",
       "        vertical-align: top;\n",
       "    }\n",
       "\n",
       "    .dataframe thead th {\n",
       "        text-align: right;\n",
       "    }\n",
       "</style>\n",
       "<table border=\"1\" class=\"dataframe\">\n",
       "  <thead>\n",
       "    <tr style=\"text-align: right;\">\n",
       "      <th></th>\n",
       "      <th>ID Number</th>\n",
       "      <th>Preferred Language</th>\n",
       "      <th>Gender</th>\n",
       "      <th>Relationship Types</th>\n",
       "      <th>Faculty of Graduation</th>\n",
       "      <th>Year of Graduation</th>\n",
       "      <th>Province</th>\n",
       "      <th>Lifetime Giving</th>\n",
       "      <th>Year of Last Gift</th>\n",
       "      <th>Year of First Gift</th>\n",
       "      <th>Largest Gift</th>\n",
       "      <th>Events Attended in Lifetime</th>\n",
       "      <th>Past Traveler Y/N</th>\n",
       "      <th># of Instances of Volunteering</th>\n",
       "      <th># of Clicks in the Past Month</th>\n",
       "    </tr>\n",
       "  </thead>\n",
       "  <tbody>\n",
       "    <tr>\n",
       "      <th>0</th>\n",
       "      <td>100001</td>\n",
       "      <td>E</td>\n",
       "      <td>M</td>\n",
       "      <td>Graduate</td>\n",
       "      <td>Medicine -- General</td>\n",
       "      <td>1968</td>\n",
       "      <td>ON</td>\n",
       "      <td>73600</td>\n",
       "      <td>1997.0</td>\n",
       "      <td>1978.0</td>\n",
       "      <td>22080.0</td>\n",
       "      <td>0</td>\n",
       "      <td>N</td>\n",
       "      <td>0</td>\n",
       "      <td>27</td>\n",
       "    </tr>\n",
       "    <tr>\n",
       "      <th>1</th>\n",
       "      <td>100002</td>\n",
       "      <td>E</td>\n",
       "      <td>M</td>\n",
       "      <td>Graduate</td>\n",
       "      <td>Arts -- General</td>\n",
       "      <td>1958</td>\n",
       "      <td>NB</td>\n",
       "      <td>8035</td>\n",
       "      <td>1962.0</td>\n",
       "      <td>1961.0</td>\n",
       "      <td>1768.0</td>\n",
       "      <td>14</td>\n",
       "      <td>N</td>\n",
       "      <td>1</td>\n",
       "      <td>19</td>\n",
       "    </tr>\n",
       "    <tr>\n",
       "      <th>2</th>\n",
       "      <td>100003</td>\n",
       "      <td>E</td>\n",
       "      <td>F</td>\n",
       "      <td>Graduate</td>\n",
       "      <td>Science -- General</td>\n",
       "      <td>1963</td>\n",
       "      <td>ON</td>\n",
       "      <td>9675</td>\n",
       "      <td>1961.0</td>\n",
       "      <td>1961.0</td>\n",
       "      <td>3483.0</td>\n",
       "      <td>15</td>\n",
       "      <td>N</td>\n",
       "      <td>1</td>\n",
       "      <td>18</td>\n",
       "    </tr>\n",
       "    <tr>\n",
       "      <th>3</th>\n",
       "      <td>100004</td>\n",
       "      <td></td>\n",
       "      <td>M</td>\n",
       "      <td>Graduate</td>\n",
       "      <td>Education -- General</td>\n",
       "      <td>1960</td>\n",
       "      <td>BC</td>\n",
       "      <td>4070</td>\n",
       "      <td>1990.0</td>\n",
       "      <td>1986.0</td>\n",
       "      <td>2768.0</td>\n",
       "      <td>14</td>\n",
       "      <td>N</td>\n",
       "      <td>2</td>\n",
       "      <td>10</td>\n",
       "    </tr>\n",
       "    <tr>\n",
       "      <th>4</th>\n",
       "      <td>100005</td>\n",
       "      <td>E</td>\n",
       "      <td>M</td>\n",
       "      <td>Graduate</td>\n",
       "      <td>Management</td>\n",
       "      <td>1955</td>\n",
       "      <td>QC</td>\n",
       "      <td>13377</td>\n",
       "      <td>1970.0</td>\n",
       "      <td>1957.0</td>\n",
       "      <td>3077.0</td>\n",
       "      <td>0</td>\n",
       "      <td>N</td>\n",
       "      <td>0</td>\n",
       "      <td>16</td>\n",
       "    </tr>\n",
       "    <tr>\n",
       "      <th>...</th>\n",
       "      <td>...</td>\n",
       "      <td>...</td>\n",
       "      <td>...</td>\n",
       "      <td>...</td>\n",
       "      <td>...</td>\n",
       "      <td>...</td>\n",
       "      <td>...</td>\n",
       "      <td>...</td>\n",
       "      <td>...</td>\n",
       "      <td>...</td>\n",
       "      <td>...</td>\n",
       "      <td>...</td>\n",
       "      <td>...</td>\n",
       "      <td>...</td>\n",
       "      <td>...</td>\n",
       "    </tr>\n",
       "    <tr>\n",
       "      <th>49995</th>\n",
       "      <td>149996</td>\n",
       "      <td>E</td>\n",
       "      <td>M</td>\n",
       "      <td>Graduate</td>\n",
       "      <td>Engineer -- General</td>\n",
       "      <td>1960</td>\n",
       "      <td>ON</td>\n",
       "      <td>9174</td>\n",
       "      <td>1970.0</td>\n",
       "      <td>1969.0</td>\n",
       "      <td>5504.0</td>\n",
       "      <td>15</td>\n",
       "      <td>Y</td>\n",
       "      <td>1</td>\n",
       "      <td>1</td>\n",
       "    </tr>\n",
       "    <tr>\n",
       "      <th>49996</th>\n",
       "      <td>149997</td>\n",
       "      <td>E</td>\n",
       "      <td>F</td>\n",
       "      <td>Graduate</td>\n",
       "      <td>Arts -- General</td>\n",
       "      <td>1992</td>\n",
       "      <td>MB</td>\n",
       "      <td>38181</td>\n",
       "      <td>1999.0</td>\n",
       "      <td>1993.0</td>\n",
       "      <td>35890.0</td>\n",
       "      <td>8</td>\n",
       "      <td>N</td>\n",
       "      <td>1</td>\n",
       "      <td>20</td>\n",
       "    </tr>\n",
       "    <tr>\n",
       "      <th>49997</th>\n",
       "      <td>149998</td>\n",
       "      <td>E</td>\n",
       "      <td>F</td>\n",
       "      <td>Graduate</td>\n",
       "      <td>Arts -- General</td>\n",
       "      <td>1974</td>\n",
       "      <td>QC</td>\n",
       "      <td>0</td>\n",
       "      <td>NaN</td>\n",
       "      <td>NaN</td>\n",
       "      <td>NaN</td>\n",
       "      <td>3</td>\n",
       "      <td>Y</td>\n",
       "      <td>2</td>\n",
       "      <td>5</td>\n",
       "    </tr>\n",
       "    <tr>\n",
       "      <th>49998</th>\n",
       "      <td>149999</td>\n",
       "      <td>E</td>\n",
       "      <td>M</td>\n",
       "      <td>Graduate</td>\n",
       "      <td>Arts -- General</td>\n",
       "      <td>1967</td>\n",
       "      <td>ON</td>\n",
       "      <td>0</td>\n",
       "      <td>NaN</td>\n",
       "      <td>NaN</td>\n",
       "      <td>NaN</td>\n",
       "      <td>1</td>\n",
       "      <td>N</td>\n",
       "      <td>0</td>\n",
       "      <td>12</td>\n",
       "    </tr>\n",
       "    <tr>\n",
       "      <th>49999</th>\n",
       "      <td>150000</td>\n",
       "      <td>E</td>\n",
       "      <td>M</td>\n",
       "      <td>Graduate</td>\n",
       "      <td>Management</td>\n",
       "      <td>1998</td>\n",
       "      <td>ON</td>\n",
       "      <td>0</td>\n",
       "      <td>NaN</td>\n",
       "      <td>NaN</td>\n",
       "      <td>NaN</td>\n",
       "      <td>9</td>\n",
       "      <td>N</td>\n",
       "      <td>3</td>\n",
       "      <td>12</td>\n",
       "    </tr>\n",
       "  </tbody>\n",
       "</table>\n",
       "<p>50000 rows × 15 columns</p>\n",
       "</div>"
      ],
      "text/plain": [
       "       ID Number Preferred Language Gender Relationship Types  \\\n",
       "0         100001                  E      M           Graduate   \n",
       "1         100002                  E      M           Graduate   \n",
       "2         100003                  E      F           Graduate   \n",
       "3         100004                         M           Graduate   \n",
       "4         100005                  E      M           Graduate   \n",
       "...          ...                ...    ...                ...   \n",
       "49995     149996                  E      M           Graduate   \n",
       "49996     149997                  E      F           Graduate   \n",
       "49997     149998                  E      F           Graduate   \n",
       "49998     149999                  E      M           Graduate   \n",
       "49999     150000                  E      M           Graduate   \n",
       "\n",
       "      Faculty of Graduation  Year of Graduation Province  Lifetime Giving  \\\n",
       "0       Medicine -- General                1968       ON            73600   \n",
       "1           Arts -- General                1958       NB             8035   \n",
       "2        Science -- General                1963       ON             9675   \n",
       "3      Education -- General                1960       BC             4070   \n",
       "4                Management                1955       QC            13377   \n",
       "...                     ...                 ...      ...              ...   \n",
       "49995   Engineer -- General                1960       ON             9174   \n",
       "49996       Arts -- General                1992       MB            38181   \n",
       "49997       Arts -- General                1974       QC                0   \n",
       "49998       Arts -- General                1967       ON                0   \n",
       "49999            Management                1998       ON                0   \n",
       "\n",
       "       Year of Last Gift  Year of First Gift  Largest Gift  \\\n",
       "0                 1997.0              1978.0       22080.0   \n",
       "1                 1962.0              1961.0        1768.0   \n",
       "2                 1961.0              1961.0        3483.0   \n",
       "3                 1990.0              1986.0        2768.0   \n",
       "4                 1970.0              1957.0        3077.0   \n",
       "...                  ...                 ...           ...   \n",
       "49995             1970.0              1969.0        5504.0   \n",
       "49996             1999.0              1993.0       35890.0   \n",
       "49997                NaN                 NaN           NaN   \n",
       "49998                NaN                 NaN           NaN   \n",
       "49999                NaN                 NaN           NaN   \n",
       "\n",
       "       Events Attended in Lifetime Past Traveler Y/N  \\\n",
       "0                                0                 N   \n",
       "1                               14                 N   \n",
       "2                               15                 N   \n",
       "3                               14                 N   \n",
       "4                                0                 N   \n",
       "...                            ...               ...   \n",
       "49995                           15                 Y   \n",
       "49996                            8                 N   \n",
       "49997                            3                 Y   \n",
       "49998                            1                 N   \n",
       "49999                            9                 N   \n",
       "\n",
       "       # of Instances of Volunteering  # of Clicks in the Past Month  \n",
       "0                                   0                             27  \n",
       "1                                   1                             19  \n",
       "2                                   1                             18  \n",
       "3                                   2                             10  \n",
       "4                                   0                             16  \n",
       "...                               ...                            ...  \n",
       "49995                               1                              1  \n",
       "49996                               1                             20  \n",
       "49997                               2                              5  \n",
       "49998                               0                             12  \n",
       "49999                               3                             12  \n",
       "\n",
       "[50000 rows x 15 columns]"
      ]
     },
     "execution_count": 12,
     "metadata": {},
     "output_type": "execute_result"
    }
   ],
   "source": [
    "dt1"
   ]
  },
  {
   "cell_type": "code",
   "execution_count": 13,
   "id": "e2d3d24d",
   "metadata": {},
   "outputs": [],
   "source": [
    "#Filling missing values of languages using Nan \n",
    "\n",
    "dt1['Preferred Language'].replace(' ', np.nan, regex=True,inplace=True)\n",
    "dt1['Year of Last Gift'].replace(' ', np.nan, regex=True,inplace=True)\n",
    "dt1['Year of First Gift'].replace(' ', np.nan, regex=True,inplace=True)\n",
    "dt1['Largest Gift'].replace(' ', np.nan, regex=True,inplace=True)"
   ]
  },
  {
   "cell_type": "code",
   "execution_count": 14,
   "id": "8c505bf8",
   "metadata": {},
   "outputs": [
    {
     "data": {
      "text/plain": [
       "0.21868"
      ]
     },
     "execution_count": 14,
     "metadata": {},
     "output_type": "execute_result"
    }
   ],
   "source": [
    "#Calculation of percentage null values\n",
    "dt1['Preferred Language'].isnull().mean()"
   ]
  },
  {
   "cell_type": "code",
   "execution_count": 15,
   "id": "b60cb847",
   "metadata": {},
   "outputs": [
    {
     "data": {
      "text/plain": [
       "0.67828"
      ]
     },
     "execution_count": 15,
     "metadata": {},
     "output_type": "execute_result"
    }
   ],
   "source": [
    "dt1['Year of Last Gift'].isnull().mean()"
   ]
  },
  {
   "cell_type": "code",
   "execution_count": 16,
   "id": "1ac41d2d",
   "metadata": {},
   "outputs": [
    {
     "data": {
      "text/plain": [
       "0.67828"
      ]
     },
     "execution_count": 16,
     "metadata": {},
     "output_type": "execute_result"
    }
   ],
   "source": [
    "dt1['Year of First Gift'].isnull().mean()"
   ]
  },
  {
   "cell_type": "code",
   "execution_count": 17,
   "id": "770ebd00",
   "metadata": {},
   "outputs": [
    {
     "data": {
      "text/plain": [
       "0.67824"
      ]
     },
     "execution_count": 17,
     "metadata": {},
     "output_type": "execute_result"
    }
   ],
   "source": [
    "dt1['Largest Gift'].isnull().mean()"
   ]
  },
  {
   "cell_type": "markdown",
   "id": "50a2036f",
   "metadata": {},
   "source": [
    "# LOGISTIC REGRESSION"
   ]
  },
  {
   "cell_type": "code",
   "execution_count": 18,
   "id": "6e290ad4",
   "metadata": {},
   "outputs": [],
   "source": [
    "#Checking whether the person is donated\n",
    "\n",
    "def donation(x):\n",
    "    if x==0:\n",
    "        return 0\n",
    "    else:\n",
    "        return 1"
   ]
  },
  {
   "cell_type": "code",
   "execution_count": 19,
   "id": "a5d0ff04",
   "metadata": {},
   "outputs": [],
   "source": [
    "dt1['Donation'] = dt1['Lifetime Giving'].apply(lambda x : donation(x))"
   ]
  },
  {
   "cell_type": "code",
   "execution_count": 20,
   "id": "e3ea60e7",
   "metadata": {},
   "outputs": [
    {
     "data": {
      "text/html": [
       "<div>\n",
       "<style scoped>\n",
       "    .dataframe tbody tr th:only-of-type {\n",
       "        vertical-align: middle;\n",
       "    }\n",
       "\n",
       "    .dataframe tbody tr th {\n",
       "        vertical-align: top;\n",
       "    }\n",
       "\n",
       "    .dataframe thead th {\n",
       "        text-align: right;\n",
       "    }\n",
       "</style>\n",
       "<table border=\"1\" class=\"dataframe\">\n",
       "  <thead>\n",
       "    <tr style=\"text-align: right;\">\n",
       "      <th></th>\n",
       "      <th>ID Number</th>\n",
       "      <th>Preferred Language</th>\n",
       "      <th>Gender</th>\n",
       "      <th>Relationship Types</th>\n",
       "      <th>Faculty of Graduation</th>\n",
       "      <th>Year of Graduation</th>\n",
       "      <th>Province</th>\n",
       "      <th>Lifetime Giving</th>\n",
       "      <th>Year of Last Gift</th>\n",
       "      <th>Year of First Gift</th>\n",
       "      <th>Largest Gift</th>\n",
       "      <th>Events Attended in Lifetime</th>\n",
       "      <th>Past Traveler Y/N</th>\n",
       "      <th># of Instances of Volunteering</th>\n",
       "      <th># of Clicks in the Past Month</th>\n",
       "      <th>Donation</th>\n",
       "    </tr>\n",
       "  </thead>\n",
       "  <tbody>\n",
       "    <tr>\n",
       "      <th>0</th>\n",
       "      <td>100001</td>\n",
       "      <td>E</td>\n",
       "      <td>M</td>\n",
       "      <td>Graduate</td>\n",
       "      <td>Medicine -- General</td>\n",
       "      <td>1968</td>\n",
       "      <td>ON</td>\n",
       "      <td>73600</td>\n",
       "      <td>1997.0</td>\n",
       "      <td>1978.0</td>\n",
       "      <td>22080.0</td>\n",
       "      <td>0</td>\n",
       "      <td>N</td>\n",
       "      <td>0</td>\n",
       "      <td>27</td>\n",
       "      <td>1</td>\n",
       "    </tr>\n",
       "    <tr>\n",
       "      <th>1</th>\n",
       "      <td>100002</td>\n",
       "      <td>E</td>\n",
       "      <td>M</td>\n",
       "      <td>Graduate</td>\n",
       "      <td>Arts -- General</td>\n",
       "      <td>1958</td>\n",
       "      <td>NB</td>\n",
       "      <td>8035</td>\n",
       "      <td>1962.0</td>\n",
       "      <td>1961.0</td>\n",
       "      <td>1768.0</td>\n",
       "      <td>14</td>\n",
       "      <td>N</td>\n",
       "      <td>1</td>\n",
       "      <td>19</td>\n",
       "      <td>1</td>\n",
       "    </tr>\n",
       "    <tr>\n",
       "      <th>2</th>\n",
       "      <td>100003</td>\n",
       "      <td>E</td>\n",
       "      <td>F</td>\n",
       "      <td>Graduate</td>\n",
       "      <td>Science -- General</td>\n",
       "      <td>1963</td>\n",
       "      <td>ON</td>\n",
       "      <td>9675</td>\n",
       "      <td>1961.0</td>\n",
       "      <td>1961.0</td>\n",
       "      <td>3483.0</td>\n",
       "      <td>15</td>\n",
       "      <td>N</td>\n",
       "      <td>1</td>\n",
       "      <td>18</td>\n",
       "      <td>1</td>\n",
       "    </tr>\n",
       "    <tr>\n",
       "      <th>3</th>\n",
       "      <td>100004</td>\n",
       "      <td>NaN</td>\n",
       "      <td>M</td>\n",
       "      <td>Graduate</td>\n",
       "      <td>Education -- General</td>\n",
       "      <td>1960</td>\n",
       "      <td>BC</td>\n",
       "      <td>4070</td>\n",
       "      <td>1990.0</td>\n",
       "      <td>1986.0</td>\n",
       "      <td>2768.0</td>\n",
       "      <td>14</td>\n",
       "      <td>N</td>\n",
       "      <td>2</td>\n",
       "      <td>10</td>\n",
       "      <td>1</td>\n",
       "    </tr>\n",
       "    <tr>\n",
       "      <th>4</th>\n",
       "      <td>100005</td>\n",
       "      <td>E</td>\n",
       "      <td>M</td>\n",
       "      <td>Graduate</td>\n",
       "      <td>Management</td>\n",
       "      <td>1955</td>\n",
       "      <td>QC</td>\n",
       "      <td>13377</td>\n",
       "      <td>1970.0</td>\n",
       "      <td>1957.0</td>\n",
       "      <td>3077.0</td>\n",
       "      <td>0</td>\n",
       "      <td>N</td>\n",
       "      <td>0</td>\n",
       "      <td>16</td>\n",
       "      <td>1</td>\n",
       "    </tr>\n",
       "  </tbody>\n",
       "</table>\n",
       "</div>"
      ],
      "text/plain": [
       "   ID Number Preferred Language Gender Relationship Types  \\\n",
       "0     100001                  E      M           Graduate   \n",
       "1     100002                  E      M           Graduate   \n",
       "2     100003                  E      F           Graduate   \n",
       "3     100004                NaN      M           Graduate   \n",
       "4     100005                  E      M           Graduate   \n",
       "\n",
       "  Faculty of Graduation  Year of Graduation Province  Lifetime Giving  \\\n",
       "0   Medicine -- General                1968       ON            73600   \n",
       "1       Arts -- General                1958       NB             8035   \n",
       "2    Science -- General                1963       ON             9675   \n",
       "3  Education -- General                1960       BC             4070   \n",
       "4            Management                1955       QC            13377   \n",
       "\n",
       "   Year of Last Gift  Year of First Gift  Largest Gift  \\\n",
       "0             1997.0              1978.0       22080.0   \n",
       "1             1962.0              1961.0        1768.0   \n",
       "2             1961.0              1961.0        3483.0   \n",
       "3             1990.0              1986.0        2768.0   \n",
       "4             1970.0              1957.0        3077.0   \n",
       "\n",
       "   Events Attended in Lifetime Past Traveler Y/N  \\\n",
       "0                            0                 N   \n",
       "1                           14                 N   \n",
       "2                           15                 N   \n",
       "3                           14                 N   \n",
       "4                            0                 N   \n",
       "\n",
       "   # of Instances of Volunteering  # of Clicks in the Past Month  Donation  \n",
       "0                               0                             27         1  \n",
       "1                               1                             19         1  \n",
       "2                               1                             18         1  \n",
       "3                               2                             10         1  \n",
       "4                               0                             16         1  "
      ]
     },
     "execution_count": 20,
     "metadata": {},
     "output_type": "execute_result"
    }
   ],
   "source": [
    "dt1.head()"
   ]
  },
  {
   "cell_type": "code",
   "execution_count": 21,
   "id": "cfc50ef7",
   "metadata": {},
   "outputs": [],
   "source": []
  },
  {
   "cell_type": "code",
   "execution_count": 22,
   "id": "b8bfa978",
   "metadata": {},
   "outputs": [],
   "source": []
  },
  {
   "cell_type": "code",
   "execution_count": 23,
   "id": "efaaaa5e",
   "metadata": {},
   "outputs": [],
   "source": [
    "from sklearn.impute import SimpleImputer\n",
    "imp = SimpleImputer(missing_values=np.nan, strategy=\"most_frequent\")\n",
    "dt1[\"Preferred Language\"] = imp.fit_transform(dt1[[\"Preferred Language\"]]).ravel()"
   ]
  },
  {
   "cell_type": "code",
   "execution_count": 24,
   "id": "4efad41d",
   "metadata": {},
   "outputs": [
    {
     "data": {
      "text/html": [
       "<div>\n",
       "<style scoped>\n",
       "    .dataframe tbody tr th:only-of-type {\n",
       "        vertical-align: middle;\n",
       "    }\n",
       "\n",
       "    .dataframe tbody tr th {\n",
       "        vertical-align: top;\n",
       "    }\n",
       "\n",
       "    .dataframe thead th {\n",
       "        text-align: right;\n",
       "    }\n",
       "</style>\n",
       "<table border=\"1\" class=\"dataframe\">\n",
       "  <thead>\n",
       "    <tr style=\"text-align: right;\">\n",
       "      <th></th>\n",
       "      <th>ID Number</th>\n",
       "      <th>Preferred Language</th>\n",
       "      <th>Gender</th>\n",
       "      <th>Relationship Types</th>\n",
       "      <th>Faculty of Graduation</th>\n",
       "      <th>Province</th>\n",
       "      <th>Lifetime Giving</th>\n",
       "      <th>Events Attended in Lifetime</th>\n",
       "      <th>Past Traveler Y/N</th>\n",
       "      <th># of Instances of Volunteering</th>\n",
       "      <th># of Clicks in the Past Month</th>\n",
       "      <th>Donation</th>\n",
       "    </tr>\n",
       "  </thead>\n",
       "  <tbody>\n",
       "    <tr>\n",
       "      <th>0</th>\n",
       "      <td>100001</td>\n",
       "      <td>E</td>\n",
       "      <td>M</td>\n",
       "      <td>Graduate</td>\n",
       "      <td>Medicine -- General</td>\n",
       "      <td>ON</td>\n",
       "      <td>73600</td>\n",
       "      <td>0</td>\n",
       "      <td>N</td>\n",
       "      <td>0</td>\n",
       "      <td>27</td>\n",
       "      <td>1</td>\n",
       "    </tr>\n",
       "    <tr>\n",
       "      <th>1</th>\n",
       "      <td>100002</td>\n",
       "      <td>E</td>\n",
       "      <td>M</td>\n",
       "      <td>Graduate</td>\n",
       "      <td>Arts -- General</td>\n",
       "      <td>NB</td>\n",
       "      <td>8035</td>\n",
       "      <td>14</td>\n",
       "      <td>N</td>\n",
       "      <td>1</td>\n",
       "      <td>19</td>\n",
       "      <td>1</td>\n",
       "    </tr>\n",
       "    <tr>\n",
       "      <th>2</th>\n",
       "      <td>100003</td>\n",
       "      <td>E</td>\n",
       "      <td>F</td>\n",
       "      <td>Graduate</td>\n",
       "      <td>Science -- General</td>\n",
       "      <td>ON</td>\n",
       "      <td>9675</td>\n",
       "      <td>15</td>\n",
       "      <td>N</td>\n",
       "      <td>1</td>\n",
       "      <td>18</td>\n",
       "      <td>1</td>\n",
       "    </tr>\n",
       "    <tr>\n",
       "      <th>3</th>\n",
       "      <td>100004</td>\n",
       "      <td>E</td>\n",
       "      <td>M</td>\n",
       "      <td>Graduate</td>\n",
       "      <td>Education -- General</td>\n",
       "      <td>BC</td>\n",
       "      <td>4070</td>\n",
       "      <td>14</td>\n",
       "      <td>N</td>\n",
       "      <td>2</td>\n",
       "      <td>10</td>\n",
       "      <td>1</td>\n",
       "    </tr>\n",
       "    <tr>\n",
       "      <th>4</th>\n",
       "      <td>100005</td>\n",
       "      <td>E</td>\n",
       "      <td>M</td>\n",
       "      <td>Graduate</td>\n",
       "      <td>Management</td>\n",
       "      <td>QC</td>\n",
       "      <td>13377</td>\n",
       "      <td>0</td>\n",
       "      <td>N</td>\n",
       "      <td>0</td>\n",
       "      <td>16</td>\n",
       "      <td>1</td>\n",
       "    </tr>\n",
       "    <tr>\n",
       "      <th>...</th>\n",
       "      <td>...</td>\n",
       "      <td>...</td>\n",
       "      <td>...</td>\n",
       "      <td>...</td>\n",
       "      <td>...</td>\n",
       "      <td>...</td>\n",
       "      <td>...</td>\n",
       "      <td>...</td>\n",
       "      <td>...</td>\n",
       "      <td>...</td>\n",
       "      <td>...</td>\n",
       "      <td>...</td>\n",
       "    </tr>\n",
       "    <tr>\n",
       "      <th>49995</th>\n",
       "      <td>149996</td>\n",
       "      <td>E</td>\n",
       "      <td>M</td>\n",
       "      <td>Graduate</td>\n",
       "      <td>Engineer -- General</td>\n",
       "      <td>ON</td>\n",
       "      <td>9174</td>\n",
       "      <td>15</td>\n",
       "      <td>Y</td>\n",
       "      <td>1</td>\n",
       "      <td>1</td>\n",
       "      <td>1</td>\n",
       "    </tr>\n",
       "    <tr>\n",
       "      <th>49996</th>\n",
       "      <td>149997</td>\n",
       "      <td>E</td>\n",
       "      <td>F</td>\n",
       "      <td>Graduate</td>\n",
       "      <td>Arts -- General</td>\n",
       "      <td>MB</td>\n",
       "      <td>38181</td>\n",
       "      <td>8</td>\n",
       "      <td>N</td>\n",
       "      <td>1</td>\n",
       "      <td>20</td>\n",
       "      <td>1</td>\n",
       "    </tr>\n",
       "    <tr>\n",
       "      <th>49997</th>\n",
       "      <td>149998</td>\n",
       "      <td>E</td>\n",
       "      <td>F</td>\n",
       "      <td>Graduate</td>\n",
       "      <td>Arts -- General</td>\n",
       "      <td>QC</td>\n",
       "      <td>0</td>\n",
       "      <td>3</td>\n",
       "      <td>Y</td>\n",
       "      <td>2</td>\n",
       "      <td>5</td>\n",
       "      <td>0</td>\n",
       "    </tr>\n",
       "    <tr>\n",
       "      <th>49998</th>\n",
       "      <td>149999</td>\n",
       "      <td>E</td>\n",
       "      <td>M</td>\n",
       "      <td>Graduate</td>\n",
       "      <td>Arts -- General</td>\n",
       "      <td>ON</td>\n",
       "      <td>0</td>\n",
       "      <td>1</td>\n",
       "      <td>N</td>\n",
       "      <td>0</td>\n",
       "      <td>12</td>\n",
       "      <td>0</td>\n",
       "    </tr>\n",
       "    <tr>\n",
       "      <th>49999</th>\n",
       "      <td>150000</td>\n",
       "      <td>E</td>\n",
       "      <td>M</td>\n",
       "      <td>Graduate</td>\n",
       "      <td>Management</td>\n",
       "      <td>ON</td>\n",
       "      <td>0</td>\n",
       "      <td>9</td>\n",
       "      <td>N</td>\n",
       "      <td>3</td>\n",
       "      <td>12</td>\n",
       "      <td>0</td>\n",
       "    </tr>\n",
       "  </tbody>\n",
       "</table>\n",
       "<p>50000 rows × 12 columns</p>\n",
       "</div>"
      ],
      "text/plain": [
       "       ID Number Preferred Language Gender Relationship Types  \\\n",
       "0         100001                  E      M           Graduate   \n",
       "1         100002                  E      M           Graduate   \n",
       "2         100003                  E      F           Graduate   \n",
       "3         100004                  E      M           Graduate   \n",
       "4         100005                  E      M           Graduate   \n",
       "...          ...                ...    ...                ...   \n",
       "49995     149996                  E      M           Graduate   \n",
       "49996     149997                  E      F           Graduate   \n",
       "49997     149998                  E      F           Graduate   \n",
       "49998     149999                  E      M           Graduate   \n",
       "49999     150000                  E      M           Graduate   \n",
       "\n",
       "      Faculty of Graduation Province  Lifetime Giving  \\\n",
       "0       Medicine -- General       ON            73600   \n",
       "1           Arts -- General       NB             8035   \n",
       "2        Science -- General       ON             9675   \n",
       "3      Education -- General       BC             4070   \n",
       "4                Management       QC            13377   \n",
       "...                     ...      ...              ...   \n",
       "49995   Engineer -- General       ON             9174   \n",
       "49996       Arts -- General       MB            38181   \n",
       "49997       Arts -- General       QC                0   \n",
       "49998       Arts -- General       ON                0   \n",
       "49999            Management       ON                0   \n",
       "\n",
       "       Events Attended in Lifetime Past Traveler Y/N  \\\n",
       "0                                0                 N   \n",
       "1                               14                 N   \n",
       "2                               15                 N   \n",
       "3                               14                 N   \n",
       "4                                0                 N   \n",
       "...                            ...               ...   \n",
       "49995                           15                 Y   \n",
       "49996                            8                 N   \n",
       "49997                            3                 Y   \n",
       "49998                            1                 N   \n",
       "49999                            9                 N   \n",
       "\n",
       "       # of Instances of Volunteering  # of Clicks in the Past Month  Donation  \n",
       "0                                   0                             27         1  \n",
       "1                                   1                             19         1  \n",
       "2                                   1                             18         1  \n",
       "3                                   2                             10         1  \n",
       "4                                   0                             16         1  \n",
       "...                               ...                            ...       ...  \n",
       "49995                               1                              1         1  \n",
       "49996                               1                             20         1  \n",
       "49997                               2                              5         0  \n",
       "49998                               0                             12         0  \n",
       "49999                               3                             12         0  \n",
       "\n",
       "[50000 rows x 12 columns]"
      ]
     },
     "execution_count": 24,
     "metadata": {},
     "output_type": "execute_result"
    }
   ],
   "source": [
    "dt1.drop(columns=['Year of Graduation','Largest Gift','Year of Last Gift','Year of First Gift'],inplace=True, axis=1)\n",
    "dt1"
   ]
  },
  {
   "cell_type": "code",
   "execution_count": 25,
   "id": "6a256c47",
   "metadata": {},
   "outputs": [],
   "source": [
    "#Converting Gender, Relationship Types, Preferred Language, Faculty of Graduation, Province, Past Traveler Y/N data into integer values\n",
    "\n",
    "from sklearn.preprocessing import LabelEncoder"
   ]
  },
  {
   "cell_type": "code",
   "execution_count": 26,
   "id": "32ab8881",
   "metadata": {},
   "outputs": [],
   "source": [
    "la_Gender = LabelEncoder()\n",
    "la_preferred_Language = LabelEncoder()\n",
    "la_Relationship_Types = LabelEncoder()\n",
    "la_Faculty_of_Graduation = LabelEncoder()\n",
    "la_Province = LabelEncoder()\n",
    "la_Past_Traveler_YN = LabelEncoder()"
   ]
  },
  {
   "cell_type": "code",
   "execution_count": 27,
   "id": "2c3cce72",
   "metadata": {},
   "outputs": [],
   "source": [
    "dt1['Gender']=la_Gender.fit_transform(dt1['Gender'])\n",
    "dt1['Preferred Language']=la_preferred_Language.fit_transform(dt1['Preferred Language'])\n",
    "dt1['Relationship Types']=la_Relationship_Types.fit_transform(dt1['Relationship Types'])\n",
    "dt1['Faculty of Graduation']=la_Faculty_of_Graduation.fit_transform(dt1['Faculty of Graduation'])\n",
    "dt1['Province']=la_Province.fit_transform(dt1['Province'])\n",
    "dt1['Past Traveler Y/N']=la_Past_Traveler_YN.fit_transform(dt1['Past Traveler Y/N'])"
   ]
  },
  {
   "cell_type": "code",
   "execution_count": 28,
   "id": "4b2478be",
   "metadata": {},
   "outputs": [
    {
     "data": {
      "text/html": [
       "<div>\n",
       "<style scoped>\n",
       "    .dataframe tbody tr th:only-of-type {\n",
       "        vertical-align: middle;\n",
       "    }\n",
       "\n",
       "    .dataframe tbody tr th {\n",
       "        vertical-align: top;\n",
       "    }\n",
       "\n",
       "    .dataframe thead th {\n",
       "        text-align: right;\n",
       "    }\n",
       "</style>\n",
       "<table border=\"1\" class=\"dataframe\">\n",
       "  <thead>\n",
       "    <tr style=\"text-align: right;\">\n",
       "      <th></th>\n",
       "      <th>ID Number</th>\n",
       "      <th>Preferred Language</th>\n",
       "      <th>Gender</th>\n",
       "      <th>Relationship Types</th>\n",
       "      <th>Faculty of Graduation</th>\n",
       "      <th>Province</th>\n",
       "      <th>Lifetime Giving</th>\n",
       "      <th>Events Attended in Lifetime</th>\n",
       "      <th>Past Traveler Y/N</th>\n",
       "      <th># of Instances of Volunteering</th>\n",
       "      <th># of Clicks in the Past Month</th>\n",
       "      <th>Donation</th>\n",
       "    </tr>\n",
       "  </thead>\n",
       "  <tbody>\n",
       "    <tr>\n",
       "      <th>0</th>\n",
       "      <td>100001</td>\n",
       "      <td>0</td>\n",
       "      <td>1</td>\n",
       "      <td>0</td>\n",
       "      <td>16</td>\n",
       "      <td>7</td>\n",
       "      <td>73600</td>\n",
       "      <td>0</td>\n",
       "      <td>0</td>\n",
       "      <td>0</td>\n",
       "      <td>27</td>\n",
       "      <td>1</td>\n",
       "    </tr>\n",
       "    <tr>\n",
       "      <th>1</th>\n",
       "      <td>100002</td>\n",
       "      <td>0</td>\n",
       "      <td>1</td>\n",
       "      <td>0</td>\n",
       "      <td>3</td>\n",
       "      <td>3</td>\n",
       "      <td>8035</td>\n",
       "      <td>14</td>\n",
       "      <td>0</td>\n",
       "      <td>1</td>\n",
       "      <td>19</td>\n",
       "      <td>1</td>\n",
       "    </tr>\n",
       "    <tr>\n",
       "      <th>2</th>\n",
       "      <td>100003</td>\n",
       "      <td>0</td>\n",
       "      <td>0</td>\n",
       "      <td>0</td>\n",
       "      <td>22</td>\n",
       "      <td>7</td>\n",
       "      <td>9675</td>\n",
       "      <td>15</td>\n",
       "      <td>0</td>\n",
       "      <td>1</td>\n",
       "      <td>18</td>\n",
       "      <td>1</td>\n",
       "    </tr>\n",
       "    <tr>\n",
       "      <th>3</th>\n",
       "      <td>100004</td>\n",
       "      <td>0</td>\n",
       "      <td>1</td>\n",
       "      <td>0</td>\n",
       "      <td>9</td>\n",
       "      <td>1</td>\n",
       "      <td>4070</td>\n",
       "      <td>14</td>\n",
       "      <td>0</td>\n",
       "      <td>2</td>\n",
       "      <td>10</td>\n",
       "      <td>1</td>\n",
       "    </tr>\n",
       "    <tr>\n",
       "      <th>4</th>\n",
       "      <td>100005</td>\n",
       "      <td>0</td>\n",
       "      <td>1</td>\n",
       "      <td>0</td>\n",
       "      <td>14</td>\n",
       "      <td>9</td>\n",
       "      <td>13377</td>\n",
       "      <td>0</td>\n",
       "      <td>0</td>\n",
       "      <td>0</td>\n",
       "      <td>16</td>\n",
       "      <td>1</td>\n",
       "    </tr>\n",
       "    <tr>\n",
       "      <th>...</th>\n",
       "      <td>...</td>\n",
       "      <td>...</td>\n",
       "      <td>...</td>\n",
       "      <td>...</td>\n",
       "      <td>...</td>\n",
       "      <td>...</td>\n",
       "      <td>...</td>\n",
       "      <td>...</td>\n",
       "      <td>...</td>\n",
       "      <td>...</td>\n",
       "      <td>...</td>\n",
       "      <td>...</td>\n",
       "    </tr>\n",
       "    <tr>\n",
       "      <th>49995</th>\n",
       "      <td>149996</td>\n",
       "      <td>0</td>\n",
       "      <td>1</td>\n",
       "      <td>0</td>\n",
       "      <td>11</td>\n",
       "      <td>7</td>\n",
       "      <td>9174</td>\n",
       "      <td>15</td>\n",
       "      <td>1</td>\n",
       "      <td>1</td>\n",
       "      <td>1</td>\n",
       "      <td>1</td>\n",
       "    </tr>\n",
       "    <tr>\n",
       "      <th>49996</th>\n",
       "      <td>149997</td>\n",
       "      <td>0</td>\n",
       "      <td>0</td>\n",
       "      <td>0</td>\n",
       "      <td>3</td>\n",
       "      <td>2</td>\n",
       "      <td>38181</td>\n",
       "      <td>8</td>\n",
       "      <td>0</td>\n",
       "      <td>1</td>\n",
       "      <td>20</td>\n",
       "      <td>1</td>\n",
       "    </tr>\n",
       "    <tr>\n",
       "      <th>49997</th>\n",
       "      <td>149998</td>\n",
       "      <td>0</td>\n",
       "      <td>0</td>\n",
       "      <td>0</td>\n",
       "      <td>3</td>\n",
       "      <td>9</td>\n",
       "      <td>0</td>\n",
       "      <td>3</td>\n",
       "      <td>1</td>\n",
       "      <td>2</td>\n",
       "      <td>5</td>\n",
       "      <td>0</td>\n",
       "    </tr>\n",
       "    <tr>\n",
       "      <th>49998</th>\n",
       "      <td>149999</td>\n",
       "      <td>0</td>\n",
       "      <td>1</td>\n",
       "      <td>0</td>\n",
       "      <td>3</td>\n",
       "      <td>7</td>\n",
       "      <td>0</td>\n",
       "      <td>1</td>\n",
       "      <td>0</td>\n",
       "      <td>0</td>\n",
       "      <td>12</td>\n",
       "      <td>0</td>\n",
       "    </tr>\n",
       "    <tr>\n",
       "      <th>49999</th>\n",
       "      <td>150000</td>\n",
       "      <td>0</td>\n",
       "      <td>1</td>\n",
       "      <td>0</td>\n",
       "      <td>14</td>\n",
       "      <td>7</td>\n",
       "      <td>0</td>\n",
       "      <td>9</td>\n",
       "      <td>0</td>\n",
       "      <td>3</td>\n",
       "      <td>12</td>\n",
       "      <td>0</td>\n",
       "    </tr>\n",
       "  </tbody>\n",
       "</table>\n",
       "<p>50000 rows × 12 columns</p>\n",
       "</div>"
      ],
      "text/plain": [
       "       ID Number  Preferred Language  Gender  Relationship Types  \\\n",
       "0         100001                   0       1                   0   \n",
       "1         100002                   0       1                   0   \n",
       "2         100003                   0       0                   0   \n",
       "3         100004                   0       1                   0   \n",
       "4         100005                   0       1                   0   \n",
       "...          ...                 ...     ...                 ...   \n",
       "49995     149996                   0       1                   0   \n",
       "49996     149997                   0       0                   0   \n",
       "49997     149998                   0       0                   0   \n",
       "49998     149999                   0       1                   0   \n",
       "49999     150000                   0       1                   0   \n",
       "\n",
       "       Faculty of Graduation  Province  Lifetime Giving  \\\n",
       "0                         16         7            73600   \n",
       "1                          3         3             8035   \n",
       "2                         22         7             9675   \n",
       "3                          9         1             4070   \n",
       "4                         14         9            13377   \n",
       "...                      ...       ...              ...   \n",
       "49995                     11         7             9174   \n",
       "49996                      3         2            38181   \n",
       "49997                      3         9                0   \n",
       "49998                      3         7                0   \n",
       "49999                     14         7                0   \n",
       "\n",
       "       Events Attended in Lifetime  Past Traveler Y/N  \\\n",
       "0                                0                  0   \n",
       "1                               14                  0   \n",
       "2                               15                  0   \n",
       "3                               14                  0   \n",
       "4                                0                  0   \n",
       "...                            ...                ...   \n",
       "49995                           15                  1   \n",
       "49996                            8                  0   \n",
       "49997                            3                  1   \n",
       "49998                            1                  0   \n",
       "49999                            9                  0   \n",
       "\n",
       "       # of Instances of Volunteering  # of Clicks in the Past Month  Donation  \n",
       "0                                   0                             27         1  \n",
       "1                                   1                             19         1  \n",
       "2                                   1                             18         1  \n",
       "3                                   2                             10         1  \n",
       "4                                   0                             16         1  \n",
       "...                               ...                            ...       ...  \n",
       "49995                               1                              1         1  \n",
       "49996                               1                             20         1  \n",
       "49997                               2                              5         0  \n",
       "49998                               0                             12         0  \n",
       "49999                               3                             12         0  \n",
       "\n",
       "[50000 rows x 12 columns]"
      ]
     },
     "execution_count": 28,
     "metadata": {},
     "output_type": "execute_result"
    }
   ],
   "source": [
    "dt1"
   ]
  },
  {
   "cell_type": "code",
   "execution_count": 29,
   "id": "1e51ea12",
   "metadata": {},
   "outputs": [
    {
     "data": {
      "text/plain": [
       "array([[100001,      0,      1, ...,      0,      0,     27],\n",
       "       [100002,      0,      1, ...,      0,      1,     19],\n",
       "       [100003,      0,      0, ...,      0,      1,     18],\n",
       "       ...,\n",
       "       [149998,      0,      0, ...,      1,      2,      5],\n",
       "       [149999,      0,      1, ...,      0,      0,     12],\n",
       "       [150000,      0,      1, ...,      0,      3,     12]], dtype=int64)"
      ]
     },
     "execution_count": 29,
     "metadata": {},
     "output_type": "execute_result"
    }
   ],
   "source": [
    "x = dt1.iloc[:, 0:11].values\n",
    "x"
   ]
  },
  {
   "cell_type": "code",
   "execution_count": 30,
   "id": "ec2e1cff",
   "metadata": {},
   "outputs": [
    {
     "data": {
      "text/plain": [
       "array([1, 1, 1, ..., 0, 0, 0], dtype=int64)"
      ]
     },
     "execution_count": 30,
     "metadata": {},
     "output_type": "execute_result"
    }
   ],
   "source": [
    "y=dt1['Donation'].values\n",
    "y"
   ]
  },
  {
   "cell_type": "code",
   "execution_count": 31,
   "id": "58bf71f6",
   "metadata": {},
   "outputs": [],
   "source": [
    "from sklearn.model_selection import train_test_split\n",
    "x_train,x_test,y_train,y_test = train_test_split(x,y,test_size=0.3,random_state=4)"
   ]
  },
  {
   "cell_type": "code",
   "execution_count": 32,
   "id": "fe16c3d1",
   "metadata": {},
   "outputs": [],
   "source": [
    "from sklearn.linear_model import LogisticRegression\n",
    "\n",
    "Logistic_regressor = LogisticRegression()"
   ]
  },
  {
   "cell_type": "code",
   "execution_count": 33,
   "id": "d2025e20",
   "metadata": {},
   "outputs": [
    {
     "data": {
      "text/plain": [
       "LogisticRegression()"
      ]
     },
     "execution_count": 33,
     "metadata": {},
     "output_type": "execute_result"
    }
   ],
   "source": [
    "Logistic_regressor.fit(x_train,y_train)"
   ]
  },
  {
   "cell_type": "code",
   "execution_count": 34,
   "id": "feddfe3f",
   "metadata": {},
   "outputs": [
    {
     "data": {
      "text/plain": [
       "array([1, 0, 1, ..., 1, 0, 0], dtype=int64)"
      ]
     },
     "execution_count": 34,
     "metadata": {},
     "output_type": "execute_result"
    }
   ],
   "source": [
    "y_pred = Logistic_regressor.predict(x_test)\n",
    "y_pred "
   ]
  },
  {
   "cell_type": "code",
   "execution_count": 35,
   "id": "04a155b0",
   "metadata": {},
   "outputs": [
    {
     "data": {
      "text/plain": [
       "0.9996"
      ]
     },
     "execution_count": 35,
     "metadata": {},
     "output_type": "execute_result"
    }
   ],
   "source": [
    "Logistic_regressor.score(x_test,y_test)"
   ]
  },
  {
   "cell_type": "markdown",
   "id": "6c49c4e2",
   "metadata": {},
   "source": [
    "#Accuracy = 99.96%"
   ]
  },
  {
   "cell_type": "markdown",
   "id": "5326b321",
   "metadata": {},
   "source": [
    "# Clustering"
   ]
  },
  {
   "cell_type": "code",
   "execution_count": 36,
   "id": "77a7ed9b",
   "metadata": {},
   "outputs": [],
   "source": [
    "import pkgs"
   ]
  },
  {
   "cell_type": "code",
   "execution_count": 37,
   "id": "e9947115",
   "metadata": {},
   "outputs": [],
   "source": [
    "# Import ElbowVisualizer\n",
    "\n",
    "from yellowbrick.cluster import KElbowVisualizer"
   ]
  },
  {
   "cell_type": "markdown",
   "id": "5bdeb43d",
   "metadata": {},
   "source": [
    "# Elbow Method for K means"
   ]
  },
  {
   "cell_type": "code",
   "execution_count": 41,
   "id": "2daa7417",
   "metadata": {},
   "outputs": [],
   "source": [
    "\n",
    "\n",
    "model = KMeans()\n"
   ]
  },
  {
   "cell_type": "code",
   "execution_count": 49,
   "id": "1ca9b38c",
   "metadata": {},
   "outputs": [
    {
     "data": {
      "image/png": "[encoded data removed]",
      "text/plain": [
       "<Figure size 800x550 with 2 Axes>"
      ]
     },
     "metadata": {},
     "output_type": "display_data"
    },
    {
     "data": {
      "text/plain": [
       "<AxesSubplot:title={'center':'Distortion Score Elbow for KMeans Clustering'}, xlabel='k', ylabel='distortion score'>"
      ]
     },
     "execution_count": 49,
     "metadata": {},
     "output_type": "execute_result"
    }
   ],
   "source": [
    "# k is range of number of clusters.\n",
    "visualizer = KElbowVisualizer(model, k=(2,30), timings= True)\n",
    "\n",
    "# Fit data to visualizer\n",
    "visualizer.fit(dt1[['Province','Faculty of Graduation','Donation','Past Traveler Y/N','Preferred Language','Gender','Events Attended in Lifetime','Past Traveler Y/N','Preferred Language','# of Clicks in the Past Month','Relationship Types']])        \n",
    "visualizer.show()        # Finalize and render figure"
   ]
  },
  {
   "cell_type": "markdown",
   "id": "a97dc59b",
   "metadata": {},
   "source": [
    "# Silhouette Score for K means\n"
   ]
  },
  {
   "cell_type": "code",
   "execution_count": 50,
   "id": "5b9cf9ee",
   "metadata": {},
   "outputs": [
    {
     "data": {
      "image/png": "[encoded data removed]",
      "text/plain": [
       "<Figure size 800x550 with 2 Axes>"
      ]
     },
     "metadata": {},
     "output_type": "display_data"
    },
    {
     "data": {
      "text/plain": [
       "<AxesSubplot:title={'center':'Silhouette Score Elbow for KMeans Clustering'}, xlabel='k', ylabel='silhouette score'>"
      ]
     },
     "execution_count": 50,
     "metadata": {},
     "output_type": "execute_result"
    }
   ],
   "source": [
    "visualizer_silhouette = KElbowVisualizer(model, k=(2,30),metric='silhouette', timings= True)\n",
    "\n",
    " # Fit the data to the visualizer\n",
    "visualizer_silhouette.fit(dt1[['Province','Faculty of Graduation','Donation','Past Traveler Y/N','Preferred Language','Gender','Events Attended in Lifetime','Past Traveler Y/N','Preferred Language','# of Clicks in the Past Month','Relationship Types']])\n",
    " \n",
    "visualizer_silhouette.show()\n",
    "\n",
    "                          \n",
    "   "
   ]
  },
  {
   "cell_type": "markdown",
   "id": "32da1c27",
   "metadata": {},
   "source": [
    "# Calinski Harabasz Score for K means"
   ]
  },
  {
   "cell_type": "code",
   "execution_count": 58,
   "id": "b6b4324a",
   "metadata": {},
   "outputs": [
    {
     "data": {
      "image/png": "[encoded data removed]",
      "text/plain": [
       "<Figure size 800x550 with 2 Axes>"
      ]
     },
     "metadata": {},
     "output_type": "display_data"
    },
    {
     "data": {
      "text/plain": [
       "<AxesSubplot:title={'center':'Calinski Harabasz Score Elbow for KMeans Clustering'}, xlabel='k', ylabel='calinski harabasz score'>"
      ]
     },
     "execution_count": 58,
     "metadata": {},
     "output_type": "execute_result"
    }
   ],
   "source": [
    "visualizer_calinski_harabasz = KElbowVisualizer(model, k=(2,30),metric='calinski_harabasz', timings= True)\n",
    "\n",
    "# Fit the data to the visualizer\n",
    "visualizer_calinski_harabasz.fit(dt1[['Province','Faculty of Graduation','Donation','Past Traveler Y/N','Preferred Language','Gender','Events Attended in Lifetime','Past Traveler Y/N','Preferred Language','# of Clicks in the Past Month','Relationship Types']])  \n",
    "\n",
    "# Finalize and render the figure\n",
    "visualizer_calinski_harabasz.show()        \n"
   ]
  },
  {
   "cell_type": "markdown",
   "id": "11c0a681",
   "metadata": {},
   "source": [
    "#Hence K value can be taken as 2 from Silhouette Score"
   ]
  },
  {
   "cell_type": "code",
   "execution_count": null,
   "id": "0a8d9d1a",
   "metadata": {},
   "outputs": [],
   "source": []
  },
  {
   "cell_type": "code",
   "execution_count": 60,
   "id": "e49928b0",
   "metadata": {},
   "outputs": [],
   "source": [
    "#Predicting clustering values"
   ]
  },
  {
   "cell_type": "code",
   "execution_count": 127,
   "id": "170a37e4",
   "metadata": {},
   "outputs": [],
   "source": [
    "k = KMeans(n_clusters=2)"
   ]
  },
  {
   "cell_type": "code",
   "execution_count": 128,
   "id": "a7b85489",
   "metadata": {},
   "outputs": [],
   "source": [
    "y1_pred = k.fit_predict(dt1[['Province','Faculty of Graduation','Donation','Past Traveler Y/N','Preferred Language','Gender','Events Attended in Lifetime','Past Traveler Y/N','Preferred Language','# of Clicks in the Past Month','Relationship Types']])"
   ]
  },
  {
   "cell_type": "code",
   "execution_count": 129,
   "id": "014f0626",
   "metadata": {},
   "outputs": [
    {
     "data": {
      "text/html": [
       "<div>\n",
       "<style scoped>\n",
       "    .dataframe tbody tr th:only-of-type {\n",
       "        vertical-align: middle;\n",
       "    }\n",
       "\n",
       "    .dataframe tbody tr th {\n",
       "        vertical-align: top;\n",
       "    }\n",
       "\n",
       "    .dataframe thead th {\n",
       "        text-align: right;\n",
       "    }\n",
       "</style>\n",
       "<table border=\"1\" class=\"dataframe\">\n",
       "  <thead>\n",
       "    <tr style=\"text-align: right;\">\n",
       "      <th></th>\n",
       "      <th>ID Number</th>\n",
       "      <th>Preferred Language</th>\n",
       "      <th>Gender</th>\n",
       "      <th>Relationship Types</th>\n",
       "      <th>Faculty of Graduation</th>\n",
       "      <th>Province</th>\n",
       "      <th>Lifetime Giving</th>\n",
       "      <th>Events Attended in Lifetime</th>\n",
       "      <th>Past Traveler Y/N</th>\n",
       "      <th># of Instances of Volunteering</th>\n",
       "      <th># of Clicks in the Past Month</th>\n",
       "      <th>Donation</th>\n",
       "      <th>Cluster_prediction</th>\n",
       "    </tr>\n",
       "  </thead>\n",
       "  <tbody>\n",
       "    <tr>\n",
       "      <th>0</th>\n",
       "      <td>100001</td>\n",
       "      <td>0</td>\n",
       "      <td>1</td>\n",
       "      <td>0</td>\n",
       "      <td>16</td>\n",
       "      <td>7</td>\n",
       "      <td>73600</td>\n",
       "      <td>0</td>\n",
       "      <td>0</td>\n",
       "      <td>0</td>\n",
       "      <td>27</td>\n",
       "      <td>1</td>\n",
       "      <td>0</td>\n",
       "    </tr>\n",
       "    <tr>\n",
       "      <th>1</th>\n",
       "      <td>100002</td>\n",
       "      <td>0</td>\n",
       "      <td>1</td>\n",
       "      <td>0</td>\n",
       "      <td>3</td>\n",
       "      <td>3</td>\n",
       "      <td>8035</td>\n",
       "      <td>14</td>\n",
       "      <td>0</td>\n",
       "      <td>1</td>\n",
       "      <td>19</td>\n",
       "      <td>1</td>\n",
       "      <td>1</td>\n",
       "    </tr>\n",
       "    <tr>\n",
       "      <th>2</th>\n",
       "      <td>100003</td>\n",
       "      <td>0</td>\n",
       "      <td>0</td>\n",
       "      <td>0</td>\n",
       "      <td>22</td>\n",
       "      <td>7</td>\n",
       "      <td>9675</td>\n",
       "      <td>15</td>\n",
       "      <td>0</td>\n",
       "      <td>1</td>\n",
       "      <td>18</td>\n",
       "      <td>1</td>\n",
       "      <td>0</td>\n",
       "    </tr>\n",
       "    <tr>\n",
       "      <th>3</th>\n",
       "      <td>100004</td>\n",
       "      <td>0</td>\n",
       "      <td>1</td>\n",
       "      <td>0</td>\n",
       "      <td>9</td>\n",
       "      <td>1</td>\n",
       "      <td>4070</td>\n",
       "      <td>14</td>\n",
       "      <td>0</td>\n",
       "      <td>2</td>\n",
       "      <td>10</td>\n",
       "      <td>1</td>\n",
       "      <td>1</td>\n",
       "    </tr>\n",
       "    <tr>\n",
       "      <th>4</th>\n",
       "      <td>100005</td>\n",
       "      <td>0</td>\n",
       "      <td>1</td>\n",
       "      <td>0</td>\n",
       "      <td>14</td>\n",
       "      <td>9</td>\n",
       "      <td>13377</td>\n",
       "      <td>0</td>\n",
       "      <td>0</td>\n",
       "      <td>0</td>\n",
       "      <td>16</td>\n",
       "      <td>1</td>\n",
       "      <td>0</td>\n",
       "    </tr>\n",
       "    <tr>\n",
       "      <th>...</th>\n",
       "      <td>...</td>\n",
       "      <td>...</td>\n",
       "      <td>...</td>\n",
       "      <td>...</td>\n",
       "      <td>...</td>\n",
       "      <td>...</td>\n",
       "      <td>...</td>\n",
       "      <td>...</td>\n",
       "      <td>...</td>\n",
       "      <td>...</td>\n",
       "      <td>...</td>\n",
       "      <td>...</td>\n",
       "      <td>...</td>\n",
       "    </tr>\n",
       "    <tr>\n",
       "      <th>49995</th>\n",
       "      <td>149996</td>\n",
       "      <td>0</td>\n",
       "      <td>1</td>\n",
       "      <td>0</td>\n",
       "      <td>11</td>\n",
       "      <td>7</td>\n",
       "      <td>9174</td>\n",
       "      <td>15</td>\n",
       "      <td>1</td>\n",
       "      <td>1</td>\n",
       "      <td>1</td>\n",
       "      <td>1</td>\n",
       "      <td>0</td>\n",
       "    </tr>\n",
       "    <tr>\n",
       "      <th>49996</th>\n",
       "      <td>149997</td>\n",
       "      <td>0</td>\n",
       "      <td>0</td>\n",
       "      <td>0</td>\n",
       "      <td>3</td>\n",
       "      <td>2</td>\n",
       "      <td>38181</td>\n",
       "      <td>8</td>\n",
       "      <td>0</td>\n",
       "      <td>1</td>\n",
       "      <td>20</td>\n",
       "      <td>1</td>\n",
       "      <td>1</td>\n",
       "    </tr>\n",
       "    <tr>\n",
       "      <th>49997</th>\n",
       "      <td>149998</td>\n",
       "      <td>0</td>\n",
       "      <td>0</td>\n",
       "      <td>0</td>\n",
       "      <td>3</td>\n",
       "      <td>9</td>\n",
       "      <td>0</td>\n",
       "      <td>3</td>\n",
       "      <td>1</td>\n",
       "      <td>2</td>\n",
       "      <td>5</td>\n",
       "      <td>0</td>\n",
       "      <td>1</td>\n",
       "    </tr>\n",
       "    <tr>\n",
       "      <th>49998</th>\n",
       "      <td>149999</td>\n",
       "      <td>0</td>\n",
       "      <td>1</td>\n",
       "      <td>0</td>\n",
       "      <td>3</td>\n",
       "      <td>7</td>\n",
       "      <td>0</td>\n",
       "      <td>1</td>\n",
       "      <td>0</td>\n",
       "      <td>0</td>\n",
       "      <td>12</td>\n",
       "      <td>0</td>\n",
       "      <td>1</td>\n",
       "    </tr>\n",
       "    <tr>\n",
       "      <th>49999</th>\n",
       "      <td>150000</td>\n",
       "      <td>0</td>\n",
       "      <td>1</td>\n",
       "      <td>0</td>\n",
       "      <td>14</td>\n",
       "      <td>7</td>\n",
       "      <td>0</td>\n",
       "      <td>9</td>\n",
       "      <td>0</td>\n",
       "      <td>3</td>\n",
       "      <td>12</td>\n",
       "      <td>0</td>\n",
       "      <td>0</td>\n",
       "    </tr>\n",
       "  </tbody>\n",
       "</table>\n",
       "<p>50000 rows × 13 columns</p>\n",
       "</div>"
      ],
      "text/plain": [
       "       ID Number  Preferred Language  Gender  Relationship Types  \\\n",
       "0         100001                   0       1                   0   \n",
       "1         100002                   0       1                   0   \n",
       "2         100003                   0       0                   0   \n",
       "3         100004                   0       1                   0   \n",
       "4         100005                   0       1                   0   \n",
       "...          ...                 ...     ...                 ...   \n",
       "49995     149996                   0       1                   0   \n",
       "49996     149997                   0       0                   0   \n",
       "49997     149998                   0       0                   0   \n",
       "49998     149999                   0       1                   0   \n",
       "49999     150000                   0       1                   0   \n",
       "\n",
       "       Faculty of Graduation  Province  Lifetime Giving  \\\n",
       "0                         16         7            73600   \n",
       "1                          3         3             8035   \n",
       "2                         22         7             9675   \n",
       "3                          9         1             4070   \n",
       "4                         14         9            13377   \n",
       "...                      ...       ...              ...   \n",
       "49995                     11         7             9174   \n",
       "49996                      3         2            38181   \n",
       "49997                      3         9                0   \n",
       "49998                      3         7                0   \n",
       "49999                     14         7                0   \n",
       "\n",
       "       Events Attended in Lifetime  Past Traveler Y/N  \\\n",
       "0                                0                  0   \n",
       "1                               14                  0   \n",
       "2                               15                  0   \n",
       "3                               14                  0   \n",
       "4                                0                  0   \n",
       "...                            ...                ...   \n",
       "49995                           15                  1   \n",
       "49996                            8                  0   \n",
       "49997                            3                  1   \n",
       "49998                            1                  0   \n",
       "49999                            9                  0   \n",
       "\n",
       "       # of Instances of Volunteering  # of Clicks in the Past Month  \\\n",
       "0                                   0                             27   \n",
       "1                                   1                             19   \n",
       "2                                   1                             18   \n",
       "3                                   2                             10   \n",
       "4                                   0                             16   \n",
       "...                               ...                            ...   \n",
       "49995                               1                              1   \n",
       "49996                               1                             20   \n",
       "49997                               2                              5   \n",
       "49998                               0                             12   \n",
       "49999                               3                             12   \n",
       "\n",
       "       Donation  Cluster_prediction  \n",
       "0             1                   0  \n",
       "1             1                   1  \n",
       "2             1                   0  \n",
       "3             1                   1  \n",
       "4             1                   0  \n",
       "...         ...                 ...  \n",
       "49995         1                   0  \n",
       "49996         1                   1  \n",
       "49997         0                   1  \n",
       "49998         0                   1  \n",
       "49999         0                   0  \n",
       "\n",
       "[50000 rows x 13 columns]"
      ]
     },
     "execution_count": 129,
     "metadata": {},
     "output_type": "execute_result"
    }
   ],
   "source": [
    "dt1['Cluster_prediction'] = y1_pred\n",
    "dt1"
   ]
  },
  {
   "cell_type": "code",
   "execution_count": 130,
   "id": "45eed25d",
   "metadata": {},
   "outputs": [
    {
     "data": {
      "text/plain": [
       "array([[ 5.56771835, 16.26240862,  0.34840323,  0.09538284,  0.13562909,\n",
       "         0.46306272,  7.48757214,  0.09538284,  0.13562909, 12.13435937,\n",
       "         0.85475183],\n",
       "       [ 5.62848813,  4.11320283,  0.29283632,  0.08950437,  0.13748438,\n",
       "         0.46509788,  7.50512287,  0.08950437,  0.13748438, 12.07392753,\n",
       "         0.82044981]])"
      ]
     },
     "execution_count": 130,
     "metadata": {},
     "output_type": "execute_result"
    }
   ],
   "source": [
    "k.cluster_centers_"
   ]
  },
  {
   "cell_type": "code",
   "execution_count": 131,
   "id": "cfe3dc40",
   "metadata": {},
   "outputs": [
    {
     "name": "stderr",
     "output_type": "stream",
     "text": [
      "D:\\Phyt\\lib\\site-packages\\ipykernel_launcher.py:1: UserWarning: Boolean Series key will be reindexed to match DataFrame index.\n",
      "  \"\"\"Entry point for launching an IPython kernel.\n",
      "D:\\Phyt\\lib\\site-packages\\ipykernel_launcher.py:2: UserWarning: Boolean Series key will be reindexed to match DataFrame index.\n",
      "  \n"
     ]
    }
   ],
   "source": [
    "data1 = dt1[dt1.Cluster_prediction==0][dt1['Donation']==1]\n",
    "data2 = dt1[dt1.Cluster_prediction==1][dt1['Donation']==1]"
   ]
  },
  {
   "cell_type": "code",
   "execution_count": 132,
   "id": "669e9d0a",
   "metadata": {},
   "outputs": [
    {
     "data": {
      "text/plain": [
       "14    2595\n",
       "22    2194\n",
       "11    1538\n",
       "16     952\n",
       "13     935\n",
       "18     267\n",
       "17     217\n",
       "19     215\n",
       "12      38\n",
       "21      35\n",
       "20      31\n",
       "15      21\n",
       "23      16\n",
       "24       1\n",
       "Name: Faculty of Graduation, dtype: int64"
      ]
     },
     "execution_count": 132,
     "metadata": {},
     "output_type": "execute_result"
    }
   ],
   "source": [
    "data1['Faculty of Graduation'].value_counts()"
   ]
  },
  {
   "cell_type": "code",
   "execution_count": 133,
   "id": "1d85c3b7",
   "metadata": {},
   "outputs": [
    {
     "data": {
      "text/plain": [
       "3     4678\n",
       "9      697\n",
       "6      302\n",
       "1      295\n",
       "7      282\n",
       "10     223\n",
       "8      223\n",
       "4      182\n",
       "0      134\n",
       "5       10\n",
       "2        5\n",
       "Name: Faculty of Graduation, dtype: int64"
      ]
     },
     "execution_count": 133,
     "metadata": {},
     "output_type": "execute_result"
    }
   ],
   "source": [
    "data2['Faculty of Graduation'].value_counts()"
   ]
  },
  {
   "cell_type": "code",
   "execution_count": 134,
   "id": "6e8fd891",
   "metadata": {},
   "outputs": [
    {
     "data": {
      "text/plain": [
       "7     3021\n",
       "9     2279\n",
       "1     1270\n",
       "0      856\n",
       "3      630\n",
       "5      311\n",
       "10     265\n",
       "2      262\n",
       "4      108\n",
       "8       34\n",
       "6       11\n",
       "11       8\n",
       "Name: Province, dtype: int64"
      ]
     },
     "execution_count": 134,
     "metadata": {},
     "output_type": "execute_result"
    }
   ],
   "source": [
    "data1['Province'].value_counts()"
   ]
  },
  {
   "cell_type": "code",
   "execution_count": 135,
   "id": "e6e04d02",
   "metadata": {},
   "outputs": [
    {
     "data": {
      "text/plain": [
       "7     2388\n",
       "9     1845\n",
       "1      894\n",
       "0      673\n",
       "3      465\n",
       "5      226\n",
       "10     215\n",
       "2      202\n",
       "4       84\n",
       "8       30\n",
       "6        6\n",
       "11       3\n",
       "Name: Province, dtype: int64"
      ]
     },
     "execution_count": 135,
     "metadata": {},
     "output_type": "execute_result"
    }
   ],
   "source": [
    "data2['Province'].value_counts()"
   ]
  },
  {
   "cell_type": "code",
   "execution_count": 136,
   "id": "526a5527",
   "metadata": {},
   "outputs": [
    {
     "data": {
      "text/plain": [
       "0    4851\n",
       "1    4202\n",
       "2       2\n",
       "Name: Gender, dtype: int64"
      ]
     },
     "execution_count": 136,
     "metadata": {},
     "output_type": "execute_result"
    }
   ],
   "source": [
    "data1['Gender'].value_counts()"
   ]
  },
  {
   "cell_type": "code",
   "execution_count": 137,
   "id": "aef47f80",
   "metadata": {},
   "outputs": [
    {
     "data": {
      "text/plain": [
       "0    3759\n",
       "1    3270\n",
       "2       2\n",
       "Name: Gender, dtype: int64"
      ]
     },
     "execution_count": 137,
     "metadata": {},
     "output_type": "execute_result"
    }
   ],
   "source": [
    "data2['Gender'].value_counts()"
   ]
  },
  {
   "cell_type": "code",
   "execution_count": 138,
   "id": "d955067d",
   "metadata": {},
   "outputs": [
    {
     "data": {
      "text/plain": [
       "0     8415\n",
       "14     276\n",
       "7      196\n",
       "18      87\n",
       "19      32\n",
       "1       18\n",
       "16      10\n",
       "5        8\n",
       "8        5\n",
       "10       4\n",
       "12       2\n",
       "9        1\n",
       "3        1\n",
       "Name: Relationship Types, dtype: int64"
      ]
     },
     "execution_count": 138,
     "metadata": {},
     "output_type": "execute_result"
    }
   ],
   "source": [
    "data1['Relationship Types'].value_counts()"
   ]
  },
  {
   "cell_type": "code",
   "execution_count": 139,
   "id": "445fe240",
   "metadata": {},
   "outputs": [
    {
     "data": {
      "text/plain": [
       "0     6538\n",
       "14     194\n",
       "7      152\n",
       "18      69\n",
       "1       30\n",
       "19      17\n",
       "8       10\n",
       "5        9\n",
       "16       7\n",
       "12       2\n",
       "6        1\n",
       "2        1\n",
       "9        1\n",
       "Name: Relationship Types, dtype: int64"
      ]
     },
     "execution_count": 139,
     "metadata": {},
     "output_type": "execute_result"
    }
   ],
   "source": [
    "data2['Relationship Types'].value_counts()"
   ]
  },
  {
   "cell_type": "code",
   "execution_count": null,
   "id": "c7fc66f1",
   "metadata": {},
   "outputs": [],
   "source": []
  },
  {
   "cell_type": "code",
   "execution_count": 140,
   "id": "3a10f51c",
   "metadata": {},
   "outputs": [
    {
     "data": {
      "image/png": "[encoded data removed]",
      "text/plain": [
       "<Figure size 800x550 with 1 Axes>"
      ]
     },
     "metadata": {},
     "output_type": "display_data"
    }
   ],
   "source": [
    "kplot = plt.axes(projection='3d')\n",
    "xline = np.linspace(0, 15, 1000)\n",
    "yline = np.linspace(0, 15, 1000)\n",
    "zline = np.linspace(0, 15, 1000)\n",
    "kplot.plot3D(xline, yline, zline, 'black')\n",
    "# Data for three-dimensional scattered points\n",
    "kplot.scatter3D(data1['Province'],data1['Faculty of Graduation'], data1['Donation'], c='red', label = 'Cluster 1')\n",
    "kplot.scatter3D(data2['Province'],data2['Faculty of Graduation'], data2['Donation'],c ='green', label = 'Cluster 2')\n",
    "plt.scatter(k.cluster_centers_[:,0], k.cluster_centers_[:,1], color = 'indigo', s = 200)\n",
    "plt.legend()\n",
    "plt.title(\"Kmeans\")\n",
    "plt.show()"
   ]
  },
  {
   "cell_type": "code",
   "execution_count": 141,
   "id": "ccf896b4",
   "metadata": {},
   "outputs": [
    {
     "name": "stdout",
     "output_type": "stream",
     "text": [
      "0.2518955011181438\n"
     ]
    }
   ],
   "source": [
    "from sklearn.metrics import silhouette_score\n",
    "score = silhouette_score(dt1[['Province','Faculty of Graduation','Donation','Past Traveler Y/N','Preferred Language','Gender','Events Attended in Lifetime','Past Traveler Y/N','Preferred Language','# of Clicks in the Past Month','Relationship Types']],y1_pred)\n",
    "print(score)"
   ]
  },
  {
   "cell_type": "code",
   "execution_count": null,
   "id": "46a5bdb3",
   "metadata": {},
   "outputs": [],
   "source": []
  },
  {
   "cell_type": "code",
   "execution_count": null,
   "id": "677d4085",
   "metadata": {},
   "outputs": [],
   "source": []
  }
 ],
 "metadata": {
  "kernelspec": {
   "display_name": "Python 3 (ipykernel)",
   "language": "python",
   "name": "python3"
  },
  "language_info": {
   "codemirror_mode": {
    "name": "ipython",
    "version": 3
   },
   "file_extension": ".py",
   "mimetype": "text/x-python",
   "name": "python",
   "nbconvert_exporter": "python",
   "pygments_lexer": "ipython3",
   "version": "3.7.3"
  }
 },
 "nbformat": 4,
 "nbformat_minor": 5
}
